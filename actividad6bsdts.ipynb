{
 "cells": [
  {
   "cell_type": "code",
   "execution_count": 14,
   "id": "40727351",
   "metadata": {},
   "outputs": [
    {
     "name": "stdout",
     "output_type": "stream",
     "text": [
      "{'cod': '200', 'message': 0, 'cnt': 40, 'list': [{'dt': 1761782400, 'main': {'temp': 11.41, 'feels_like': 10.36, 'temp_min': 11.41, 'temp_max': 14.1, 'pressure': 1029, 'sea_level': 1029, 'grnd_level': 1028, 'humidity': 67, 'temp_kf': -2.69}, 'weather': [{'id': 802, 'main': 'Clouds', 'description': 'scattered clouds', 'icon': '03d'}], 'clouds': {'all': 40}, 'wind': {'speed': 5.12, 'deg': 13, 'gust': 6.31}, 'visibility': 10000, 'pop': 0, 'sys': {'pod': 'd'}, 'dt_txt': '2025-10-30 00:00:00'}, {'dt': 1761793200, 'main': {'temp': 13.15, 'feels_like': 12.04, 'temp_min': 13.15, 'temp_max': 16.64, 'pressure': 1029, 'sea_level': 1029, 'grnd_level': 1026, 'humidity': 58, 'temp_kf': -3.49}, 'weather': [{'id': 802, 'main': 'Clouds', 'description': 'scattered clouds', 'icon': '03d'}], 'clouds': {'all': 27}, 'wind': {'speed': 3.63, 'deg': 23, 'gust': 3.86}, 'visibility': 10000, 'pop': 0, 'sys': {'pod': 'd'}, 'dt_txt': '2025-10-30 03:00:00'}, {'dt': 1761804000, 'main': {'temp': 15.82, 'feels_like': 14.63, 'temp_min': 15.82, 'temp_max': 18.03, 'pressure': 1028, 'sea_level': 1028, 'grnd_level': 1025, 'humidity': 45, 'temp_kf': -2.21}, 'weather': [{'id': 801, 'main': 'Clouds', 'description': 'few clouds', 'icon': '02d'}], 'clouds': {'all': 15}, 'wind': {'speed': 3.13, 'deg': 18, 'gust': 3.22}, 'visibility': 10000, 'pop': 0, 'sys': {'pod': 'd'}, 'dt_txt': '2025-10-30 06:00:00'}, {'dt': 1761814800, 'main': {'temp': 17.69, 'feels_like': 16.61, 'temp_min': 17.69, 'temp_max': 17.69, 'pressure': 1028, 'sea_level': 1028, 'grnd_level': 1026, 'humidity': 42, 'temp_kf': 0}, 'weather': [{'id': 800, 'main': 'Clear', 'description': 'clear sky', 'icon': '01n'}], 'clouds': {'all': 10}, 'wind': {'speed': 3.89, 'deg': 59, 'gust': 3.31}, 'visibility': 10000, 'pop': 0, 'sys': {'pod': 'n'}, 'dt_txt': '2025-10-30 09:00:00'}, {'dt': 1761825600, 'main': {'temp': 15.99, 'feels_like': 15.08, 'temp_min': 15.99, 'temp_max': 15.99, 'pressure': 1027, 'sea_level': 1027, 'grnd_level': 1026, 'humidity': 55, 'temp_kf': 0}, 'weather': [{'id': 802, 'main': 'Clouds', 'description': 'scattered clouds', 'icon': '03n'}], 'clouds': {'all': 29}, 'wind': {'speed': 3.51, 'deg': 41, 'gust': 3.85}, 'visibility': 10000, 'pop': 0, 'sys': {'pod': 'n'}, 'dt_txt': '2025-10-30 12:00:00'}, {'dt': 1761836400, 'main': {'temp': 15.58, 'feels_like': 14.71, 'temp_min': 15.58, 'temp_max': 15.58, 'pressure': 1026, 'sea_level': 1026, 'grnd_level': 1024, 'humidity': 58, 'temp_kf': 0}, 'weather': [{'id': 804, 'main': 'Clouds', 'description': 'overcast clouds', 'icon': '04n'}], 'clouds': {'all': 92}, 'wind': {'speed': 2.96, 'deg': 9, 'gust': 3.43}, 'visibility': 10000, 'pop': 0, 'sys': {'pod': 'n'}, 'dt_txt': '2025-10-30 15:00:00'}, {'dt': 1761847200, 'main': {'temp': 15.21, 'feels_like': 14.09, 'temp_min': 15.21, 'temp_max': 15.21, 'pressure': 1026, 'sea_level': 1026, 'grnd_level': 1024, 'humidity': 50, 'temp_kf': 0}, 'weather': [{'id': 804, 'main': 'Clouds', 'description': 'overcast clouds', 'icon': '04n'}], 'clouds': {'all': 96}, 'wind': {'speed': 4.31, 'deg': 357, 'gust': 4.9}, 'visibility': 10000, 'pop': 0, 'sys': {'pod': 'n'}, 'dt_txt': '2025-10-30 18:00:00'}, {'dt': 1761858000, 'main': {'temp': 15.05, 'feels_like': 13.84, 'temp_min': 15.05, 'temp_max': 15.05, 'pressure': 1025, 'sea_level': 1025, 'grnd_level': 1024, 'humidity': 47, 'temp_kf': 0}, 'weather': [{'id': 804, 'main': 'Clouds', 'description': 'overcast clouds', 'icon': '04n'}], 'clouds': {'all': 100}, 'wind': {'speed': 3.83, 'deg': 7, 'gust': 4.34}, 'visibility': 10000, 'pop': 0, 'sys': {'pod': 'n'}, 'dt_txt': '2025-10-30 21:00:00'}, {'dt': 1761868800, 'main': {'temp': 16, 'feels_like': 14.83, 'temp_min': 16, 'temp_max': 16, 'pressure': 1025, 'sea_level': 1025, 'grnd_level': 1023, 'humidity': 45, 'temp_kf': 0}, 'weather': [{'id': 804, 'main': 'Clouds', 'description': 'overcast clouds', 'icon': '04d'}], 'clouds': {'all': 100}, 'wind': {'speed': 4.5, 'deg': 1, 'gust': 4.84}, 'visibility': 10000, 'pop': 0, 'sys': {'pod': 'd'}, 'dt_txt': '2025-10-31 00:00:00'}, {'dt': 1761879600, 'main': {'temp': 17.31, 'feels_like': 16.4, 'temp_min': 17.31, 'temp_max': 17.31, 'pressure': 1022, 'sea_level': 1022, 'grnd_level': 1020, 'humidity': 50, 'temp_kf': 0}, 'weather': [{'id': 804, 'main': 'Clouds', 'description': 'overcast clouds', 'icon': '04d'}], 'clouds': {'all': 100}, 'wind': {'speed': 5.01, 'deg': 21, 'gust': 5.63}, 'visibility': 10000, 'pop': 0, 'sys': {'pod': 'd'}, 'dt_txt': '2025-10-31 03:00:00'}, {'dt': 1761890400, 'main': {'temp': 17.94, 'feels_like': 17.2, 'temp_min': 17.94, 'temp_max': 17.94, 'pressure': 1019, 'sea_level': 1019, 'grnd_level': 1017, 'humidity': 54, 'temp_kf': 0}, 'weather': [{'id': 804, 'main': 'Clouds', 'description': 'overcast clouds', 'icon': '04d'}], 'clouds': {'all': 100}, 'wind': {'speed': 5.75, 'deg': 16, 'gust': 6.43}, 'visibility': 10000, 'pop': 0, 'sys': {'pod': 'd'}, 'dt_txt': '2025-10-31 06:00:00'}, {'dt': 1761901200, 'main': {'temp': 16.79, 'feels_like': 16.27, 'temp_min': 16.79, 'temp_max': 16.79, 'pressure': 1016, 'sea_level': 1016, 'grnd_level': 1014, 'humidity': 67, 'temp_kf': 0}, 'weather': [{'id': 804, 'main': 'Clouds', 'description': 'overcast clouds', 'icon': '04n'}], 'clouds': {'all': 100}, 'wind': {'speed': 6.29, 'deg': 3, 'gust': 8.05}, 'visibility': 10000, 'pop': 0.11, 'sys': {'pod': 'n'}, 'dt_txt': '2025-10-31 09:00:00'}, {'dt': 1761912000, 'main': {'temp': 14.34, 'feels_like': 14.15, 'temp_min': 14.34, 'temp_max': 14.34, 'pressure': 1011, 'sea_level': 1011, 'grnd_level': 1009, 'humidity': 89, 'temp_kf': 0}, 'weather': [{'id': 501, 'main': 'Rain', 'description': 'moderate rain', 'icon': '10n'}], 'clouds': {'all': 100}, 'wind': {'speed': 7.73, 'deg': 333, 'gust': 9.81}, 'visibility': 3940, 'pop': 1, 'rain': {'3h': 7.03}, 'sys': {'pod': 'n'}, 'dt_txt': '2025-10-31 12:00:00'}, {'dt': 1761922800, 'main': {'temp': 13.73, 'feels_like': 13.64, 'temp_min': 13.73, 'temp_max': 13.73, 'pressure': 1002, 'sea_level': 1002, 'grnd_level': 1000, 'humidity': 95, 'temp_kf': 0}, 'weather': [{'id': 502, 'main': 'Rain', 'description': 'heavy intensity rain', 'icon': '10n'}], 'clouds': {'all': 100}, 'wind': {'speed': 10.59, 'deg': 283, 'gust': 13.64}, 'visibility': 4532, 'pop': 1, 'rain': {'3h': 37.86}, 'sys': {'pod': 'n'}, 'dt_txt': '2025-10-31 15:00:00'}, {'dt': 1761933600, 'main': {'temp': 16.39, 'feels_like': 16.07, 'temp_min': 16.39, 'temp_max': 16.39, 'pressure': 999, 'sea_level': 999, 'grnd_level': 998, 'humidity': 76, 'temp_kf': 0}, 'weather': [{'id': 500, 'main': 'Rain', 'description': 'light rain', 'icon': '10n'}], 'clouds': {'all': 100}, 'wind': {'speed': 1.99, 'deg': 205, 'gust': 5.71}, 'visibility': 10000, 'pop': 1, 'rain': {'3h': 1.18}, 'sys': {'pod': 'n'}, 'dt_txt': '2025-10-31 18:00:00'}, {'dt': 1761944400, 'main': {'temp': 15.67, 'feels_like': 15.38, 'temp_min': 15.67, 'temp_max': 15.67, 'pressure': 1000, 'sea_level': 1000, 'grnd_level': 998, 'humidity': 80, 'temp_kf': 0}, 'weather': [{'id': 801, 'main': 'Clouds', 'description': 'few clouds', 'icon': '02n'}], 'clouds': {'all': 17}, 'wind': {'speed': 2.21, 'deg': 7, 'gust': 2.24}, 'visibility': 10000, 'pop': 0, 'sys': {'pod': 'n'}, 'dt_txt': '2025-10-31 21:00:00'}, {'dt': 1761955200, 'main': {'temp': 18.43, 'feels_like': 17.76, 'temp_min': 18.43, 'temp_max': 18.43, 'pressure': 1002, 'sea_level': 1002, 'grnd_level': 1000, 'humidity': 55, 'temp_kf': 0}, 'weather': [{'id': 802, 'main': 'Clouds', 'description': 'scattered clouds', 'icon': '03d'}], 'clouds': {'all': 28}, 'wind': {'speed': 3.65, 'deg': 339, 'gust': 8.15}, 'visibility': 10000, 'pop': 0, 'sys': {'pod': 'd'}, 'dt_txt': '2025-11-01 00:00:00'}, {'dt': 1761966000, 'main': {'temp': 21.49, 'feels_like': 20.77, 'temp_min': 21.49, 'temp_max': 21.49, 'pressure': 1001, 'sea_level': 1001, 'grnd_level': 999, 'humidity': 41, 'temp_kf': 0}, 'weather': [{'id': 804, 'main': 'Clouds', 'description': 'overcast clouds', 'icon': '04d'}], 'clouds': {'all': 100}, 'wind': {'speed': 7.35, 'deg': 323, 'gust': 8.09}, 'visibility': 10000, 'pop': 0, 'sys': {'pod': 'd'}, 'dt_txt': '2025-11-01 03:00:00'}, {'dt': 1761976800, 'main': {'temp': 20.96, 'feels_like': 20.18, 'temp_min': 20.96, 'temp_max': 20.96, 'pressure': 1003, 'sea_level': 1003, 'grnd_level': 1001, 'humidity': 41, 'temp_kf': 0}, 'weather': [{'id': 804, 'main': 'Clouds', 'description': 'overcast clouds', 'icon': '04d'}], 'clouds': {'all': 99}, 'wind': {'speed': 5.74, 'deg': 332, 'gust': 6.39}, 'visibility': 10000, 'pop': 0, 'sys': {'pod': 'd'}, 'dt_txt': '2025-11-01 06:00:00'}, {'dt': 1761987600, 'main': {'temp': 20.22, 'feels_like': 19.39, 'temp_min': 20.22, 'temp_max': 20.22, 'pressure': 1005, 'sea_level': 1005, 'grnd_level': 1003, 'humidity': 42, 'temp_kf': 0}, 'weather': [{'id': 803, 'main': 'Clouds', 'description': 'broken clouds', 'icon': '04n'}], 'clouds': {'all': 84}, 'wind': {'speed': 1.99, 'deg': 12, 'gust': 3.2}, 'visibility': 10000, 'pop': 0, 'sys': {'pod': 'n'}, 'dt_txt': '2025-11-01 09:00:00'}, {'dt': 1761998400, 'main': {'temp': 18.8, 'feels_like': 17.94, 'temp_min': 18.8, 'temp_max': 18.8, 'pressure': 1007, 'sea_level': 1007, 'grnd_level': 1005, 'humidity': 46, 'temp_kf': 0}, 'weather': [{'id': 803, 'main': 'Clouds', 'description': 'broken clouds', 'icon': '04n'}], 'clouds': {'all': 57}, 'wind': {'speed': 1.43, 'deg': 50, 'gust': 1.7}, 'visibility': 10000, 'pop': 0, 'sys': {'pod': 'n'}, 'dt_txt': '2025-11-01 12:00:00'}, {'dt': 1762009200, 'main': {'temp': 17.59, 'feels_like': 16.92, 'temp_min': 17.59, 'temp_max': 17.59, 'pressure': 1007, 'sea_level': 1007, 'grnd_level': 1005, 'humidity': 58, 'temp_kf': 0}, 'weather': [{'id': 803, 'main': 'Clouds', 'description': 'broken clouds', 'icon': '04n'}], 'clouds': {'all': 72}, 'wind': {'speed': 2.02, 'deg': 4, 'gust': 2.64}, 'visibility': 10000, 'pop': 0, 'sys': {'pod': 'n'}, 'dt_txt': '2025-11-01 15:00:00'}, {'dt': 1762020000, 'main': {'temp': 16.37, 'feels_like': 15.58, 'temp_min': 16.37, 'temp_max': 16.37, 'pressure': 1008, 'sea_level': 1008, 'grnd_level': 1006, 'humidity': 58, 'temp_kf': 0}, 'weather': [{'id': 802, 'main': 'Clouds', 'description': 'scattered clouds', 'icon': '03n'}], 'clouds': {'all': 37}, 'wind': {'speed': 3.04, 'deg': 1, 'gust': 3.99}, 'visibility': 10000, 'pop': 0, 'sys': {'pod': 'n'}, 'dt_txt': '2025-11-01 18:00:00'}, {'dt': 1762030800, 'main': {'temp': 15.8, 'feels_like': 14.87, 'temp_min': 15.8, 'temp_max': 15.8, 'pressure': 1010, 'sea_level': 1010, 'grnd_level': 1008, 'humidity': 55, 'temp_kf': 0}, 'weather': [{'id': 803, 'main': 'Clouds', 'description': 'broken clouds', 'icon': '04n'}], 'clouds': {'all': 67}, 'wind': {'speed': 1.98, 'deg': 345, 'gust': 3.07}, 'visibility': 10000, 'pop': 0, 'sys': {'pod': 'n'}, 'dt_txt': '2025-11-01 21:00:00'}, {'dt': 1762041600, 'main': {'temp': 16.9, 'feels_like': 15.87, 'temp_min': 16.9, 'temp_max': 16.9, 'pressure': 1011, 'sea_level': 1011, 'grnd_level': 1009, 'humidity': 47, 'temp_kf': 0}, 'weather': [{'id': 803, 'main': 'Clouds', 'description': 'broken clouds', 'icon': '04d'}], 'clouds': {'all': 82}, 'wind': {'speed': 2.53, 'deg': 342, 'gust': 3.06}, 'visibility': 10000, 'pop': 0, 'sys': {'pod': 'd'}, 'dt_txt': '2025-11-02 00:00:00'}, {'dt': 1762052400, 'main': {'temp': 18.73, 'feels_like': 17.76, 'temp_min': 18.73, 'temp_max': 18.73, 'pressure': 1010, 'sea_level': 1010, 'grnd_level': 1008, 'humidity': 42, 'temp_kf': 0}, 'weather': [{'id': 804, 'main': 'Clouds', 'description': 'overcast clouds', 'icon': '04d'}], 'clouds': {'all': 100}, 'wind': {'speed': 1.23, 'deg': 99, 'gust': 1.78}, 'visibility': 10000, 'pop': 0, 'sys': {'pod': 'd'}, 'dt_txt': '2025-11-02 03:00:00'}, {'dt': 1762063200, 'main': {'temp': 19.29, 'feels_like': 18.42, 'temp_min': 19.29, 'temp_max': 19.29, 'pressure': 1009, 'sea_level': 1009, 'grnd_level': 1007, 'humidity': 44, 'temp_kf': 0}, 'weather': [{'id': 804, 'main': 'Clouds', 'description': 'overcast clouds', 'icon': '04d'}], 'clouds': {'all': 100}, 'wind': {'speed': 2.93, 'deg': 150, 'gust': 3.03}, 'visibility': 10000, 'pop': 0, 'sys': {'pod': 'd'}, 'dt_txt': '2025-11-02 06:00:00'}, {'dt': 1762074000, 'main': {'temp': 19.04, 'feels_like': 18.23, 'temp_min': 19.04, 'temp_max': 19.04, 'pressure': 1008, 'sea_level': 1008, 'grnd_level': 1007, 'humidity': 47, 'temp_kf': 0}, 'weather': [{'id': 804, 'main': 'Clouds', 'description': 'overcast clouds', 'icon': '04n'}], 'clouds': {'all': 100}, 'wind': {'speed': 1.11, 'deg': 1, 'gust': 1.63}, 'visibility': 10000, 'pop': 0, 'sys': {'pod': 'n'}, 'dt_txt': '2025-11-02 09:00:00'}, {'dt': 1762084800, 'main': {'temp': 18.45, 'feels_like': 17.58, 'temp_min': 18.45, 'temp_max': 18.45, 'pressure': 1008, 'sea_level': 1008, 'grnd_level': 1007, 'humidity': 47, 'temp_kf': 0}, 'weather': [{'id': 804, 'main': 'Clouds', 'description': 'overcast clouds', 'icon': '04n'}], 'clouds': {'all': 97}, 'wind': {'speed': 1.99, 'deg': 202, 'gust': 2.37}, 'visibility': 10000, 'pop': 0, 'sys': {'pod': 'n'}, 'dt_txt': '2025-11-02 12:00:00'}, {'dt': 1762095600, 'main': {'temp': 17.34, 'feels_like': 16.46, 'temp_min': 17.34, 'temp_max': 17.34, 'pressure': 1008, 'sea_level': 1008, 'grnd_level': 1006, 'humidity': 51, 'temp_kf': 0}, 'weather': [{'id': 803, 'main': 'Clouds', 'description': 'broken clouds', 'icon': '04n'}], 'clouds': {'all': 59}, 'wind': {'speed': 3.01, 'deg': 252, 'gust': 3.7}, 'visibility': 10000, 'pop': 0, 'sys': {'pod': 'n'}, 'dt_txt': '2025-11-02 15:00:00'}, {'dt': 1762106400, 'main': {'temp': 15.65, 'feels_like': 14.89, 'temp_min': 15.65, 'temp_max': 15.65, 'pressure': 1008, 'sea_level': 1008, 'grnd_level': 1006, 'humidity': 62, 'temp_kf': 0}, 'weather': [{'id': 802, 'main': 'Clouds', 'description': 'scattered clouds', 'icon': '03n'}], 'clouds': {'all': 30}, 'wind': {'speed': 2.25, 'deg': 312, 'gust': 3.01}, 'visibility': 10000, 'pop': 0, 'sys': {'pod': 'n'}, 'dt_txt': '2025-11-02 18:00:00'}, {'dt': 1762117200, 'main': {'temp': 15.12, 'feels_like': 13.94, 'temp_min': 15.12, 'temp_max': 15.12, 'pressure': 1009, 'sea_level': 1009, 'grnd_level': 1007, 'humidity': 48, 'temp_kf': 0}, 'weather': [{'id': 800, 'main': 'Clear', 'description': 'clear sky', 'icon': '01n'}], 'clouds': {'all': 0}, 'wind': {'speed': 2.05, 'deg': 245, 'gust': 5.08}, 'visibility': 10000, 'pop': 0, 'sys': {'pod': 'n'}, 'dt_txt': '2025-11-02 21:00:00'}, {'dt': 1762128000, 'main': {'temp': 16.7, 'feels_like': 15.26, 'temp_min': 16.7, 'temp_max': 16.7, 'pressure': 1012, 'sea_level': 1012, 'grnd_level': 1010, 'humidity': 32, 'temp_kf': 0}, 'weather': [{'id': 800, 'main': 'Clear', 'description': 'clear sky', 'icon': '01d'}], 'clouds': {'all': 1}, 'wind': {'speed': 4.36, 'deg': 290, 'gust': 6.03}, 'visibility': 10000, 'pop': 0, 'sys': {'pod': 'd'}, 'dt_txt': '2025-11-03 00:00:00'}, {'dt': 1762138800, 'main': {'temp': 17.31, 'feels_like': 16.04, 'temp_min': 17.31, 'temp_max': 17.31, 'pressure': 1014, 'sea_level': 1014, 'grnd_level': 1012, 'humidity': 36, 'temp_kf': 0}, 'weather': [{'id': 802, 'main': 'Clouds', 'description': 'scattered clouds', 'icon': '03d'}], 'clouds': {'all': 37}, 'wind': {'speed': 12.77, 'deg': 321, 'gust': 17.19}, 'visibility': 10000, 'pop': 0, 'sys': {'pod': 'd'}, 'dt_txt': '2025-11-03 03:00:00'}, {'dt': 1762149600, 'main': {'temp': 16.93, 'feels_like': 15.64, 'temp_min': 16.93, 'temp_max': 16.93, 'pressure': 1017, 'sea_level': 1017, 'grnd_level': 1015, 'humidity': 37, 'temp_kf': 0}, 'weather': [{'id': 801, 'main': 'Clouds', 'description': 'few clouds', 'icon': '02d'}], 'clouds': {'all': 21}, 'wind': {'speed': 13.05, 'deg': 325, 'gust': 17.82}, 'visibility': 10000, 'pop': 0, 'sys': {'pod': 'd'}, 'dt_txt': '2025-11-03 06:00:00'}, {'dt': 1762160400, 'main': {'temp': 15.41, 'feels_like': 14.05, 'temp_min': 15.41, 'temp_max': 15.41, 'pressure': 1022, 'sea_level': 1022, 'grnd_level': 1020, 'humidity': 40, 'temp_kf': 0}, 'weather': [{'id': 800, 'main': 'Clear', 'description': 'clear sky', 'icon': '01n'}], 'clouds': {'all': 0}, 'wind': {'speed': 9.68, 'deg': 329, 'gust': 12.86}, 'visibility': 10000, 'pop': 0, 'sys': {'pod': 'n'}, 'dt_txt': '2025-11-03 09:00:00'}, {'dt': 1762171200, 'main': {'temp': 14.19, 'feels_like': 12.76, 'temp_min': 14.19, 'temp_max': 14.19, 'pressure': 1024, 'sea_level': 1024, 'grnd_level': 1022, 'humidity': 42, 'temp_kf': 0}, 'weather': [{'id': 800, 'main': 'Clear', 'description': 'clear sky', 'icon': '01n'}], 'clouds': {'all': 0}, 'wind': {'speed': 8.6, 'deg': 345, 'gust': 12.54}, 'visibility': 10000, 'pop': 0, 'sys': {'pod': 'n'}, 'dt_txt': '2025-11-03 12:00:00'}, {'dt': 1762182000, 'main': {'temp': 13.12, 'feels_like': 11.69, 'temp_min': 13.12, 'temp_max': 13.12, 'pressure': 1026, 'sea_level': 1026, 'grnd_level': 1024, 'humidity': 46, 'temp_kf': 0}, 'weather': [{'id': 800, 'main': 'Clear', 'description': 'clear sky', 'icon': '01n'}], 'clouds': {'all': 0}, 'wind': {'speed': 6.13, 'deg': 15, 'gust': 9.11}, 'visibility': 10000, 'pop': 0, 'sys': {'pod': 'n'}, 'dt_txt': '2025-11-03 15:00:00'}, {'dt': 1762192800, 'main': {'temp': 12.14, 'feels_like': 10.74, 'temp_min': 12.14, 'temp_max': 12.14, 'pressure': 1027, 'sea_level': 1027, 'grnd_level': 1025, 'humidity': 51, 'temp_kf': 0}, 'weather': [{'id': 800, 'main': 'Clear', 'description': 'clear sky', 'icon': '01n'}], 'clouds': {'all': 0}, 'wind': {'speed': 4.89, 'deg': 359, 'gust': 6.71}, 'visibility': 10000, 'pop': 0, 'sys': {'pod': 'n'}, 'dt_txt': '2025-11-03 18:00:00'}, {'dt': 1762203600, 'main': {'temp': 11.7, 'feels_like': 10.31, 'temp_min': 11.7, 'temp_max': 11.7, 'pressure': 1029, 'sea_level': 1029, 'grnd_level': 1028, 'humidity': 53, 'temp_kf': 0}, 'weather': [{'id': 800, 'main': 'Clear', 'description': 'clear sky', 'icon': '01n'}], 'clouds': {'all': 0}, 'wind': {'speed': 3.22, 'deg': 355, 'gust': 3.69}, 'visibility': 10000, 'pop': 0, 'sys': {'pod': 'n'}, 'dt_txt': '2025-11-03 21:00:00'}], 'city': {'id': 1850144, 'name': 'Tokyo', 'coord': {'lat': 35.6895, 'lon': 139.6917}, 'country': 'JP', 'population': 12445327, 'timezone': 32400, 'sunrise': 1761771655, 'sunset': 1761810523}}\n"
     ]
    }
   ],
   "source": [
    "import requests\n",
    "import pandas as pd\n",
    "import numpy as np\n",
    "from keys import *\n",
    "\n",
    "city = \"Tokyo\"\n",
    "country = \"JPN\"\n",
    "response = requests.get(f'http://api.openweathermap.org/data/2.5/forecast/?q={city},{country}&appid={OWM_key}&units=metric&lang=en')\n",
    "print(response.json())\n",
    "\n",
    "##En este codigo nos da como resultados la temperatura, la temperatura min, max, humedad, precion del aire, etc"
   ]
  },
  {
   "cell_type": "code",
   "execution_count": 15,
   "id": "fcdf6a9f",
   "metadata": {},
   "outputs": [
    {
     "name": "stdout",
     "output_type": "stream",
     "text": [
      "      weather_datetime  temperature  humidity weather_status  wind  rain_qty  \\\n",
      "0  2025-10-30 00:00:00        11.41        67         Clouds  5.12       NaN   \n",
      "1  2025-10-30 03:00:00        13.15        58         Clouds  3.63       NaN   \n",
      "2  2025-10-30 06:00:00        15.82        45         Clouds  3.13       NaN   \n",
      "3  2025-10-30 09:00:00        17.69        42          Clear  3.89       NaN   \n",
      "4  2025-10-30 12:00:00        15.99        55         Clouds  3.51       NaN   \n",
      "\n",
      "   snow municipality_iso_country  \n",
      "0   NaN                Tokyo,JPN  \n",
      "1   NaN                Tokyo,JPN  \n",
      "2   NaN                Tokyo,JPN  \n",
      "3   NaN                Tokyo,JPN  \n",
      "4   NaN                Tokyo,JPN  \n"
     ]
    }
   ],
   "source": [
    "data = response.json()\n",
    "\n",
    "# Extract forecast list\n",
    "forecast_list = data.get('list', [])\n",
    "\n",
    "# Prepare lists for DataFrame columns\n",
    "times = []\n",
    "temperatures = []\n",
    "humidities = []\n",
    "weather_statuses = []\n",
    "wind_speeds = []\n",
    "rain_volumes = []\n",
    "snow_volumes = []\n",
    "\n",
    "for entry in forecast_list:\n",
    "    times.append(entry.get('dt_txt', np.nan))\n",
    "    temperatures.append(entry.get('main', {}).get('temp', np.nan))\n",
    "    humidities.append(entry.get('main', {}).get('humidity', np.nan))\n",
    "    weather_statuses.append(entry.get('weather', [{}])[0].get('main', np.nan))\n",
    "    wind_speeds.append(entry.get('wind', {}).get('speed', np.nan))\n",
    "    rain_volumes.append(entry.get('rain', {}).get('3h', np.nan))\n",
    "    snow_volumes.append(entry.get('snow', {}).get('3h', np.nan))\n",
    "\n",
    "# Create DataFrame\n",
    "df = pd.DataFrame({\n",
    "    'weather_datetime': times,\n",
    "    'temperature': temperatures,\n",
    "    'humidity': humidities,\n",
    "    'weather_status': weather_statuses,\n",
    "    'wind': wind_speeds,\n",
    "    'rain_qty': rain_volumes,\n",
    "    'snow': snow_volumes,\n",
    "    'municipality_iso_country': f\"Tokyo,JPN\"\n",
    "})\n",
    "\n",
    "print(df.head())\n",
    "\n",
    "## Este codigo actua como el anterior pero esta vez nos los da como en forma de lista \n"
   ]
  },
  {
   "cell_type": "code",
   "execution_count": 16,
   "id": "b41ddc2c",
   "metadata": {},
   "outputs": [
    {
     "ename": "ModuleNotFoundError",
     "evalue": "No module named 'sqlalchemy'",
     "output_type": "error",
     "traceback": [
      "\u001b[31m---------------------------------------------------------------------------\u001b[39m",
      "\u001b[31mModuleNotFoundError\u001b[39m                       Traceback (most recent call last)",
      "\u001b[36mCell\u001b[39m\u001b[36m \u001b[39m\u001b[32mIn[16]\u001b[39m\u001b[32m, line 1\u001b[39m\n\u001b[32m----> \u001b[39m\u001b[32m1\u001b[39m \u001b[38;5;28;01mimport\u001b[39;00m\u001b[38;5;250m \u001b[39m\u001b[34;01msqlalchemy\u001b[39;00m\n\u001b[32m      2\u001b[39m \u001b[38;5;28;01mimport\u001b[39;00m\u001b[38;5;250m \u001b[39m\u001b[34;01mpymysql\u001b[39;00m\n\u001b[32m      3\u001b[39m \u001b[38;5;66;03m# connection details for the local mysql database\u001b[39;00m\n",
      "\u001b[31mModuleNotFoundError\u001b[39m: No module named 'sqlalchemy'"
     ]
    }
   ],
   "source": [
    "import sqlalchemy\n",
    "import pymysql\n",
    "# connection details for the local mysql database\n",
    "schema = \"gans\"\n",
    "host = \"127.0.0.1\"\n",
    "user = \"root\"\n",
    "password = \"Ua-xxx99\"\n",
    "port = 3306\n",
    "con = f'mysql+pymysql://{user}:{password}@{host}:{port}/{schema}'"
   ]
  }
 ],
 "metadata": {
  "kernelspec": {
   "display_name": "Python 3",
   "language": "python",
   "name": "python3"
  },
  "language_info": {
   "codemirror_mode": {
    "name": "ipython",
    "version": 3
   },
   "file_extension": ".py",
   "mimetype": "text/x-python",
   "name": "python",
   "nbconvert_exporter": "python",
   "pygments_lexer": "ipython3",
   "version": "3.13.7"
  }
 },
 "nbformat": 4,
 "nbformat_minor": 5
}
