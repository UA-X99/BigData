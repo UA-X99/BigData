{
 "cells": [
  {
   "cell_type": "code",
   "execution_count": null,
   "id": "40727351",
   "metadata": {},
   "outputs": [
    {
     "name": "stdout",
     "output_type": "stream",
     "text": [
      "{'cod': '200', 'message': 0, 'cnt': 40, 'list': [{'dt': 1758780000, 'main': {'temp': 18.19, 'feels_like': 17.66, 'temp_min': 17.95, 'temp_max': 18.19, 'pressure': 1016, 'sea_level': 1016, 'grnd_level': 929, 'humidity': 61, 'temp_kf': 0.24}, 'weather': [{'id': 802, 'main': 'Clouds', 'description': 'scattered clouds', 'icon': '03n'}], 'clouds': {'all': 27}, 'wind': {'speed': 0.75, 'deg': 243, 'gust': 0.76}, 'visibility': 10000, 'pop': 0, 'sys': {'pod': 'n'}, 'dt_txt': '2025-09-25 06:00:00'}, {'dt': 1758790800, 'main': {'temp': 17.4, 'feels_like': 16.68, 'temp_min': 16.94, 'temp_max': 17.4, 'pressure': 1015, 'sea_level': 1015, 'grnd_level': 929, 'humidity': 57, 'temp_kf': 0.46}, 'weather': [{'id': 800, 'main': 'Clear', 'description': 'clear sky', 'icon': '01n'}], 'clouds': {'all': 1}, 'wind': {'speed': 0.45, 'deg': 138, 'gust': 0.79}, 'visibility': 10000, 'pop': 0, 'sys': {'pod': 'n'}, 'dt_txt': '2025-09-25 09:00:00'}, {'dt': 1758801600, 'main': {'temp': 16.89, 'feels_like': 15.89, 'temp_min': 16.89, 'temp_max': 16.89, 'pressure': 1016, 'sea_level': 1016, 'grnd_level': 931, 'humidity': 48, 'temp_kf': 0}, 'weather': [{'id': 800, 'main': 'Clear', 'description': 'clear sky', 'icon': '01d'}], 'clouds': {'all': 3}, 'wind': {'speed': 0.69, 'deg': 227, 'gust': 0.35}, 'visibility': 10000, 'pop': 0, 'sys': {'pod': 'd'}, 'dt_txt': '2025-09-25 12:00:00'}, {'dt': 1758812400, 'main': {'temp': 21.31, 'feels_like': 20.41, 'temp_min': 21.31, 'temp_max': 21.31, 'pressure': 1015, 'sea_level': 1015, 'grnd_level': 930, 'humidity': 35, 'temp_kf': 0}, 'weather': [{'id': 800, 'main': 'Clear', 'description': 'clear sky', 'icon': '01d'}], 'clouds': {'all': 2}, 'wind': {'speed': 1.46, 'deg': 263, 'gust': 0.94}, 'visibility': 10000, 'pop': 0, 'sys': {'pod': 'd'}, 'dt_txt': '2025-09-25 15:00:00'}, {'dt': 1758823200, 'main': {'temp': 24.55, 'feels_like': 23.97, 'temp_min': 24.55, 'temp_max': 24.55, 'pressure': 1013, 'sea_level': 1013, 'grnd_level': 929, 'humidity': 35, 'temp_kf': 0}, 'weather': [{'id': 801, 'main': 'Clouds', 'description': 'few clouds', 'icon': '02d'}], 'clouds': {'all': 22}, 'wind': {'speed': 4.47, 'deg': 230, 'gust': 3.33}, 'visibility': 10000, 'pop': 0, 'sys': {'pod': 'd'}, 'dt_txt': '2025-09-25 18:00:00'}, {'dt': 1758834000, 'main': {'temp': 20.39, 'feels_like': 19.58, 'temp_min': 20.39, 'temp_max': 20.39, 'pressure': 1015, 'sea_level': 1015, 'grnd_level': 930, 'humidity': 42, 'temp_kf': 0}, 'weather': [{'id': 804, 'main': 'Clouds', 'description': 'overcast clouds', 'icon': '04d'}], 'clouds': {'all': 100}, 'wind': {'speed': 3.91, 'deg': 223, 'gust': 3.82}, 'visibility': 10000, 'pop': 0, 'sys': {'pod': 'd'}, 'dt_txt': '2025-09-25 21:00:00'}, {'dt': 1758844800, 'main': {'temp': 17.35, 'feels_like': 16.29, 'temp_min': 17.35, 'temp_max': 17.35, 'pressure': 1017, 'sea_level': 1017, 'grnd_level': 931, 'humidity': 44, 'temp_kf': 0}, 'weather': [{'id': 804, 'main': 'Clouds', 'description': 'overcast clouds', 'icon': '04n'}], 'clouds': {'all': 98}, 'wind': {'speed': 2.71, 'deg': 245, 'gust': 3.02}, 'visibility': 10000, 'pop': 0, 'sys': {'pod': 'n'}, 'dt_txt': '2025-09-26 00:00:00'}, {'dt': 1758855600, 'main': {'temp': 15.38, 'feels_like': 14.25, 'temp_min': 15.38, 'temp_max': 15.38, 'pressure': 1017, 'sea_level': 1017, 'grnd_level': 931, 'humidity': 49, 'temp_kf': 0}, 'weather': [{'id': 804, 'main': 'Clouds', 'description': 'overcast clouds', 'icon': '04n'}], 'clouds': {'all': 100}, 'wind': {'speed': 2.09, 'deg': 259, 'gust': 2.08}, 'visibility': 10000, 'pop': 0, 'sys': {'pod': 'n'}, 'dt_txt': '2025-09-26 03:00:00'}, {'dt': 1758866400, 'main': {'temp': 13.11, 'feels_like': 11.91, 'temp_min': 13.11, 'temp_max': 13.11, 'pressure': 1017, 'sea_level': 1017, 'grnd_level': 930, 'humidity': 55, 'temp_kf': 0}, 'weather': [{'id': 804, 'main': 'Clouds', 'description': 'overcast clouds', 'icon': '04n'}], 'clouds': {'all': 100}, 'wind': {'speed': 1.25, 'deg': 254, 'gust': 1.74}, 'visibility': 10000, 'pop': 0, 'sys': {'pod': 'n'}, 'dt_txt': '2025-09-26 06:00:00'}, {'dt': 1758877200, 'main': {'temp': 12.49, 'feels_like': 11.2, 'temp_min': 12.49, 'temp_max': 12.49, 'pressure': 1019, 'sea_level': 1019, 'grnd_level': 932, 'humidity': 54, 'temp_kf': 0}, 'weather': [{'id': 804, 'main': 'Clouds', 'description': 'overcast clouds', 'icon': '04n'}], 'clouds': {'all': 92}, 'wind': {'speed': 1.43, 'deg': 234, 'gust': 1.62}, 'visibility': 10000, 'pop': 0, 'sys': {'pod': 'n'}, 'dt_txt': '2025-09-26 09:00:00'}, {'dt': 1758888000, 'main': {'temp': 12.72, 'feels_like': 11.33, 'temp_min': 12.72, 'temp_max': 12.72, 'pressure': 1022, 'sea_level': 1022, 'grnd_level': 935, 'humidity': 49, 'temp_kf': 0}, 'weather': [{'id': 804, 'main': 'Clouds', 'description': 'overcast clouds', 'icon': '04d'}], 'clouds': {'all': 96}, 'wind': {'speed': 0.68, 'deg': 295, 'gust': 0.7}, 'visibility': 10000, 'pop': 0, 'sys': {'pod': 'd'}, 'dt_txt': '2025-09-26 12:00:00'}, {'dt': 1758898800, 'main': {'temp': 17.16, 'feels_like': 15.95, 'temp_min': 17.16, 'temp_max': 17.16, 'pressure': 1021, 'sea_level': 1021, 'grnd_level': 935, 'humidity': 39, 'temp_kf': 0}, 'weather': [{'id': 803, 'main': 'Clouds', 'description': 'broken clouds', 'icon': '04d'}], 'clouds': {'all': 84}, 'wind': {'speed': 3.45, 'deg': 269, 'gust': 3.79}, 'visibility': 10000, 'pop': 0, 'sys': {'pod': 'd'}, 'dt_txt': '2025-09-26 15:00:00'}, {'dt': 1758909600, 'main': {'temp': 12.55, 'feels_like': 11.64, 'temp_min': 12.55, 'temp_max': 12.55, 'pressure': 1025, 'sea_level': 1025, 'grnd_level': 937, 'humidity': 68, 'temp_kf': 0}, 'weather': [{'id': 500, 'main': 'Rain', 'description': 'light rain', 'icon': '10d'}], 'clouds': {'all': 82}, 'wind': {'speed': 6.94, 'deg': 234, 'gust': 7.14}, 'visibility': 10000, 'pop': 0.23, 'rain': {'3h': 0.1}, 'sys': {'pod': 'd'}, 'dt_txt': '2025-09-26 18:00:00'}, {'dt': 1758920400, 'main': {'temp': 9.61, 'feels_like': 7.36, 'temp_min': 9.61, 'temp_max': 9.61, 'pressure': 1028, 'sea_level': 1028, 'grnd_level': 940, 'humidity': 76, 'temp_kf': 0}, 'weather': [{'id': 501, 'main': 'Rain', 'description': 'moderate rain', 'icon': '10d'}], 'clouds': {'all': 100}, 'wind': {'speed': 4.36, 'deg': 97, 'gust': 4.83}, 'visibility': 10000, 'pop': 1, 'rain': {'3h': 4.62}, 'sys': {'pod': 'd'}, 'dt_txt': '2025-09-26 21:00:00'}, {'dt': 1758931200, 'main': {'temp': 10.59, 'feels_like': 9.58, 'temp_min': 10.59, 'temp_max': 10.59, 'pressure': 1027, 'sea_level': 1027, 'grnd_level': 939, 'humidity': 72, 'temp_kf': 0}, 'weather': [{'id': 803, 'main': 'Clouds', 'description': 'broken clouds', 'icon': '04n'}], 'clouds': {'all': 82}, 'wind': {'speed': 1.6, 'deg': 235, 'gust': 1.74}, 'visibility': 10000, 'pop': 0.8, 'sys': {'pod': 'n'}, 'dt_txt': '2025-09-27 00:00:00'}, {'dt': 1758942000, 'main': {'temp': 10.06, 'feels_like': 9.03, 'temp_min': 10.06, 'temp_max': 10.06, 'pressure': 1026, 'sea_level': 1026, 'grnd_level': 939, 'humidity': 73, 'temp_kf': 0}, 'weather': [{'id': 800, 'main': 'Clear', 'description': 'clear sky', 'icon': '01n'}], 'clouds': {'all': 1}, 'wind': {'speed': 0.55, 'deg': 154, 'gust': 0.67}, 'visibility': 10000, 'pop': 0, 'sys': {'pod': 'n'}, 'dt_txt': '2025-09-27 03:00:00'}, {'dt': 1758952800, 'main': {'temp': 9.09, 'feels_like': 9.09, 'temp_min': 9.09, 'temp_max': 9.09, 'pressure': 1025, 'sea_level': 1025, 'grnd_level': 937, 'humidity': 72, 'temp_kf': 0}, 'weather': [{'id': 800, 'main': 'Clear', 'description': 'clear sky', 'icon': '01n'}], 'clouds': {'all': 1}, 'wind': {'speed': 0.55, 'deg': 118, 'gust': 0.61}, 'visibility': 10000, 'pop': 0, 'sys': {'pod': 'n'}, 'dt_txt': '2025-09-27 06:00:00'}, {'dt': 1758963600, 'main': {'temp': 8.86, 'feels_like': 8.86, 'temp_min': 8.86, 'temp_max': 8.86, 'pressure': 1025, 'sea_level': 1025, 'grnd_level': 937, 'humidity': 67, 'temp_kf': 0}, 'weather': [{'id': 803, 'main': 'Clouds', 'description': 'broken clouds', 'icon': '04n'}], 'clouds': {'all': 69}, 'wind': {'speed': 0.82, 'deg': 124, 'gust': 1.01}, 'visibility': 10000, 'pop': 0, 'sys': {'pod': 'n'}, 'dt_txt': '2025-09-27 09:00:00'}, {'dt': 1758974400, 'main': {'temp': 10.62, 'feels_like': 9.23, 'temp_min': 10.62, 'temp_max': 10.62, 'pressure': 1025, 'sea_level': 1025, 'grnd_level': 938, 'humidity': 57, 'temp_kf': 0}, 'weather': [{'id': 802, 'main': 'Clouds', 'description': 'scattered clouds', 'icon': '03d'}], 'clouds': {'all': 44}, 'wind': {'speed': 1.19, 'deg': 205, 'gust': 1.04}, 'visibility': 10000, 'pop': 0, 'sys': {'pod': 'd'}, 'dt_txt': '2025-09-27 12:00:00'}, {'dt': 1758985200, 'main': {'temp': 17.01, 'feels_like': 15.6, 'temp_min': 17.01, 'temp_max': 17.01, 'pressure': 1022, 'sea_level': 1022, 'grnd_level': 936, 'humidity': 32, 'temp_kf': 0}, 'weather': [{'id': 800, 'main': 'Clear', 'description': 'clear sky', 'icon': '01d'}], 'clouds': {'all': 0}, 'wind': {'speed': 1.75, 'deg': 226, 'gust': 1.62}, 'visibility': 10000, 'pop': 0, 'sys': {'pod': 'd'}, 'dt_txt': '2025-09-27 15:00:00'}, {'dt': 1758996000, 'main': {'temp': 21.79, 'feels_like': 20.57, 'temp_min': 21.79, 'temp_max': 21.79, 'pressure': 1019, 'sea_level': 1019, 'grnd_level': 934, 'humidity': 21, 'temp_kf': 0}, 'weather': [{'id': 800, 'main': 'Clear', 'description': 'clear sky', 'icon': '01d'}], 'clouds': {'all': 0}, 'wind': {'speed': 3.03, 'deg': 222, 'gust': 2.72}, 'visibility': 10000, 'pop': 0, 'sys': {'pod': 'd'}, 'dt_txt': '2025-09-27 18:00:00'}, {'dt': 1759006800, 'main': {'temp': 21.69, 'feels_like': 20.46, 'temp_min': 21.69, 'temp_max': 21.69, 'pressure': 1017, 'sea_level': 1017, 'grnd_level': 932, 'humidity': 21, 'temp_kf': 0}, 'weather': [{'id': 800, 'main': 'Clear', 'description': 'clear sky', 'icon': '01d'}], 'clouds': {'all': 2}, 'wind': {'speed': 2.85, 'deg': 221, 'gust': 2.73}, 'visibility': 10000, 'pop': 0, 'sys': {'pod': 'd'}, 'dt_txt': '2025-09-27 21:00:00'}, {'dt': 1759017600, 'main': {'temp': 17.8, 'feels_like': 16.65, 'temp_min': 17.8, 'temp_max': 17.8, 'pressure': 1018, 'sea_level': 1018, 'grnd_level': 932, 'humidity': 39, 'temp_kf': 0}, 'weather': [{'id': 800, 'main': 'Clear', 'description': 'clear sky', 'icon': '01n'}], 'clouds': {'all': 1}, 'wind': {'speed': 1.02, 'deg': 188, 'gust': 1}, 'visibility': 10000, 'pop': 0, 'sys': {'pod': 'n'}, 'dt_txt': '2025-09-28 00:00:00'}, {'dt': 1759028400, 'main': {'temp': 15.98, 'feels_like': 14.73, 'temp_min': 15.98, 'temp_max': 15.98, 'pressure': 1017, 'sea_level': 1017, 'grnd_level': 932, 'humidity': 42, 'temp_kf': 0}, 'weather': [{'id': 800, 'main': 'Clear', 'description': 'clear sky', 'icon': '01n'}], 'clouds': {'all': 5}, 'wind': {'speed': 0.94, 'deg': 111, 'gust': 0.84}, 'visibility': 10000, 'pop': 0, 'sys': {'pod': 'n'}, 'dt_txt': '2025-09-28 03:00:00'}, {'dt': 1759039200, 'main': {'temp': 15.08, 'feels_like': 13.69, 'temp_min': 15.08, 'temp_max': 15.08, 'pressure': 1016, 'sea_level': 1016, 'grnd_level': 930, 'humidity': 40, 'temp_kf': 0}, 'weather': [{'id': 800, 'main': 'Clear', 'description': 'clear sky', 'icon': '01n'}], 'clouds': {'all': 5}, 'wind': {'speed': 1.06, 'deg': 94, 'gust': 0.97}, 'visibility': 10000, 'pop': 0, 'sys': {'pod': 'n'}, 'dt_txt': '2025-09-28 06:00:00'}, {'dt': 1759050000, 'main': {'temp': 14.03, 'feels_like': 12.61, 'temp_min': 14.03, 'temp_max': 14.03, 'pressure': 1016, 'sea_level': 1016, 'grnd_level': 930, 'humidity': 43, 'temp_kf': 0}, 'weather': [{'id': 800, 'main': 'Clear', 'description': 'clear sky', 'icon': '01n'}], 'clouds': {'all': 3}, 'wind': {'speed': 1.1, 'deg': 163, 'gust': 0.89}, 'visibility': 10000, 'pop': 0, 'sys': {'pod': 'n'}, 'dt_txt': '2025-09-28 09:00:00'}, {'dt': 1759060800, 'main': {'temp': 15.28, 'feels_like': 13.96, 'temp_min': 15.28, 'temp_max': 15.28, 'pressure': 1017, 'sea_level': 1017, 'grnd_level': 931, 'humidity': 42, 'temp_kf': 0}, 'weather': [{'id': 802, 'main': 'Clouds', 'description': 'scattered clouds', 'icon': '03d'}], 'clouds': {'all': 27}, 'wind': {'speed': 0.61, 'deg': 186, 'gust': 0.45}, 'visibility': 10000, 'pop': 0, 'sys': {'pod': 'd'}, 'dt_txt': '2025-09-28 12:00:00'}, {'dt': 1759071600, 'main': {'temp': 20.64, 'feels_like': 19.57, 'temp_min': 20.64, 'temp_max': 20.64, 'pressure': 1017, 'sea_level': 1017, 'grnd_level': 932, 'humidity': 31, 'temp_kf': 0}, 'weather': [{'id': 804, 'main': 'Clouds', 'description': 'overcast clouds', 'icon': '04d'}], 'clouds': {'all': 86}, 'wind': {'speed': 1.82, 'deg': 230, 'gust': 1.56}, 'visibility': 10000, 'pop': 0, 'sys': {'pod': 'd'}, 'dt_txt': '2025-09-28 15:00:00'}, {'dt': 1759082400, 'main': {'temp': 23.85, 'feels_like': 23, 'temp_min': 23.85, 'temp_max': 23.85, 'pressure': 1015, 'sea_level': 1015, 'grnd_level': 930, 'humidity': 27, 'temp_kf': 0}, 'weather': [{'id': 803, 'main': 'Clouds', 'description': 'broken clouds', 'icon': '04d'}], 'clouds': {'all': 78}, 'wind': {'speed': 2.94, 'deg': 237, 'gust': 2.24}, 'visibility': 10000, 'pop': 0, 'sys': {'pod': 'd'}, 'dt_txt': '2025-09-28 18:00:00'}, {'dt': 1759093200, 'main': {'temp': 22.12, 'feels_like': 21.3, 'temp_min': 22.12, 'temp_max': 22.12, 'pressure': 1015, 'sea_level': 1015, 'grnd_level': 930, 'humidity': 35, 'temp_kf': 0}, 'weather': [{'id': 804, 'main': 'Clouds', 'description': 'overcast clouds', 'icon': '04d'}], 'clouds': {'all': 92}, 'wind': {'speed': 3.48, 'deg': 239, 'gust': 2.36}, 'visibility': 10000, 'pop': 0, 'sys': {'pod': 'd'}, 'dt_txt': '2025-09-28 21:00:00'}, {'dt': 1759104000, 'main': {'temp': 18.3, 'feels_like': 17.52, 'temp_min': 18.3, 'temp_max': 18.3, 'pressure': 1016, 'sea_level': 1016, 'grnd_level': 931, 'humidity': 51, 'temp_kf': 0}, 'weather': [{'id': 804, 'main': 'Clouds', 'description': 'overcast clouds', 'icon': '04n'}], 'clouds': {'all': 96}, 'wind': {'speed': 1.44, 'deg': 224, 'gust': 1.59}, 'visibility': 10000, 'pop': 0, 'sys': {'pod': 'n'}, 'dt_txt': '2025-09-29 00:00:00'}, {'dt': 1759114800, 'main': {'temp': 16.19, 'feels_like': 15.48, 'temp_min': 16.19, 'temp_max': 16.19, 'pressure': 1017, 'sea_level': 1017, 'grnd_level': 932, 'humidity': 62, 'temp_kf': 0}, 'weather': [{'id': 804, 'main': 'Clouds', 'description': 'overcast clouds', 'icon': '04n'}], 'clouds': {'all': 100}, 'wind': {'speed': 1.44, 'deg': 217, 'gust': 1.42}, 'visibility': 10000, 'pop': 0, 'sys': {'pod': 'n'}, 'dt_txt': '2025-09-29 03:00:00'}, {'dt': 1759125600, 'main': {'temp': 15.24, 'feels_like': 14.54, 'temp_min': 15.24, 'temp_max': 15.24, 'pressure': 1017, 'sea_level': 1017, 'grnd_level': 931, 'humidity': 66, 'temp_kf': 0}, 'weather': [{'id': 804, 'main': 'Clouds', 'description': 'overcast clouds', 'icon': '04n'}], 'clouds': {'all': 100}, 'wind': {'speed': 1, 'deg': 225, 'gust': 1.26}, 'visibility': 10000, 'pop': 0, 'sys': {'pod': 'n'}, 'dt_txt': '2025-09-29 06:00:00'}, {'dt': 1759136400, 'main': {'temp': 14.19, 'feels_like': 13.54, 'temp_min': 14.19, 'temp_max': 14.19, 'pressure': 1017, 'sea_level': 1017, 'grnd_level': 931, 'humidity': 72, 'temp_kf': 0}, 'weather': [{'id': 804, 'main': 'Clouds', 'description': 'overcast clouds', 'icon': '04n'}], 'clouds': {'all': 100}, 'wind': {'speed': 0.66, 'deg': 234, 'gust': 0.84}, 'visibility': 10000, 'pop': 0, 'sys': {'pod': 'n'}, 'dt_txt': '2025-09-29 09:00:00'}, {'dt': 1759147200, 'main': {'temp': 14.3, 'feels_like': 13.64, 'temp_min': 14.3, 'temp_max': 14.3, 'pressure': 1018, 'sea_level': 1018, 'grnd_level': 932, 'humidity': 71, 'temp_kf': 0}, 'weather': [{'id': 804, 'main': 'Clouds', 'description': 'overcast clouds', 'icon': '04d'}], 'clouds': {'all': 100}, 'wind': {'speed': 1.17, 'deg': 240, 'gust': 0.95}, 'visibility': 10000, 'pop': 0, 'sys': {'pod': 'd'}, 'dt_txt': '2025-09-29 12:00:00'}, {'dt': 1759158000, 'main': {'temp': 16.82, 'feels_like': 16.15, 'temp_min': 16.82, 'temp_max': 16.82, 'pressure': 1018, 'sea_level': 1018, 'grnd_level': 932, 'humidity': 61, 'temp_kf': 0}, 'weather': [{'id': 804, 'main': 'Clouds', 'description': 'overcast clouds', 'icon': '04d'}], 'clouds': {'all': 100}, 'wind': {'speed': 1.47, 'deg': 238, 'gust': 0.74}, 'visibility': 10000, 'pop': 0, 'sys': {'pod': 'd'}, 'dt_txt': '2025-09-29 15:00:00'}, {'dt': 1759168800, 'main': {'temp': 19.36, 'feels_like': 18.68, 'temp_min': 19.36, 'temp_max': 19.36, 'pressure': 1017, 'sea_level': 1017, 'grnd_level': 931, 'humidity': 51, 'temp_kf': 0}, 'weather': [{'id': 804, 'main': 'Clouds', 'description': 'overcast clouds', 'icon': '04d'}], 'clouds': {'all': 100}, 'wind': {'speed': 2.68, 'deg': 233, 'gust': 1.74}, 'visibility': 10000, 'pop': 0, 'sys': {'pod': 'd'}, 'dt_txt': '2025-09-29 18:00:00'}, {'dt': 1759179600, 'main': {'temp': 17.68, 'feels_like': 17.02, 'temp_min': 17.68, 'temp_max': 17.68, 'pressure': 1017, 'sea_level': 1017, 'grnd_level': 931, 'humidity': 58, 'temp_kf': 0}, 'weather': [{'id': 804, 'main': 'Clouds', 'description': 'overcast clouds', 'icon': '04d'}], 'clouds': {'all': 100}, 'wind': {'speed': 1.37, 'deg': 224, 'gust': 1.08}, 'visibility': 10000, 'pop': 0, 'sys': {'pod': 'd'}, 'dt_txt': '2025-09-29 21:00:00'}, {'dt': 1759190400, 'main': {'temp': 15.08, 'feels_like': 14.45, 'temp_min': 15.08, 'temp_max': 15.08, 'pressure': 1018, 'sea_level': 1018, 'grnd_level': 932, 'humidity': 69, 'temp_kf': 0}, 'weather': [{'id': 804, 'main': 'Clouds', 'description': 'overcast clouds', 'icon': '04n'}], 'clouds': {'all': 100}, 'wind': {'speed': 2.03, 'deg': 234, 'gust': 2.54}, 'visibility': 10000, 'pop': 0, 'sys': {'pod': 'n'}, 'dt_txt': '2025-09-30 00:00:00'}, {'dt': 1759201200, 'main': {'temp': 12.92, 'feels_like': 12.36, 'temp_min': 12.92, 'temp_max': 12.92, 'pressure': 1019, 'sea_level': 1019, 'grnd_level': 933, 'humidity': 80, 'temp_kf': 0}, 'weather': [{'id': 804, 'main': 'Clouds', 'description': 'overcast clouds', 'icon': '04n'}], 'clouds': {'all': 100}, 'wind': {'speed': 1.37, 'deg': 230, 'gust': 1.32}, 'visibility': 10000, 'pop': 0, 'sys': {'pod': 'n'}, 'dt_txt': '2025-09-30 03:00:00'}], 'city': {'id': 3871336, 'name': 'Santiago', 'coord': {'lat': -33.4569, 'lon': -70.6483}, 'country': 'CL', 'population': 4837295, 'timezone': -10800, 'sunrise': 1758796053, 'sunset': 1758840047}}\n"
     ]
    }
   ],
   "source": [
    "import requests\n",
    "import pandas as pd\n",
    "import numpy as np\n",
    "from keys import *\n",
    "\n",
    "city = \"Santiago\"\n",
    "country = \"CL\"\n",
    "response = requests.get(f'http://api.openweathermap.org/data/2.5/forecast/?q={city},{country}&appid={OWM_key}&units=metric&lang=en')\n",
    "print(response.json())\n",
    "\n",
    "##En este codigo nos da como resultados la temperatura, la temperatura min, max, humedad, precion del aire, etc"
   ]
  },
  {
   "cell_type": "code",
   "execution_count": null,
   "id": "fcdf6a9f",
   "metadata": {},
   "outputs": [
    {
     "name": "stdout",
     "output_type": "stream",
     "text": [
      "                  time  temperature  humidity weather_status  wind_speed  \\\n",
      "0  2025-09-25 06:00:00        18.19        61         Clouds        0.75   \n",
      "1  2025-09-25 09:00:00        17.40        57          Clear        0.45   \n",
      "2  2025-09-25 12:00:00        16.89        48          Clear        0.69   \n",
      "3  2025-09-25 15:00:00        21.31        35          Clear        1.46   \n",
      "4  2025-09-25 18:00:00        24.55        35         Clouds        4.47   \n",
      "\n",
      "   rain_volume_3h  snow_volume_3h  \n",
      "0             NaN             NaN  \n",
      "1             NaN             NaN  \n",
      "2             NaN             NaN  \n",
      "3             NaN             NaN  \n",
      "4             NaN             NaN  \n"
     ]
    }
   ],
   "source": [
    "data = response.json()\n",
    "\n",
    "# Extract forecast list\n",
    "forecast_list = data.get('list', [])\n",
    "\n",
    "# Prepare lists for DataFrame columns\n",
    "times = []\n",
    "temperatures = []\n",
    "humidities = []\n",
    "weather_statuses = []\n",
    "wind_speeds = []\n",
    "rain_volumes = []\n",
    "snow_volumes = []\n",
    "\n",
    "for entry in forecast_list:\n",
    "    times.append(entry.get('dt_txt', np.nan))\n",
    "    temperatures.append(entry.get('main', {}).get('temp', np.nan))\n",
    "    humidities.append(entry.get('main', {}).get('humidity', np.nan))\n",
    "    weather_statuses.append(entry.get('weather', [{}])[0].get('main', np.nan))\n",
    "    wind_speeds.append(entry.get('wind', {}).get('speed', np.nan))\n",
    "    rain_volumes.append(entry.get('rain', {}).get('3h', np.nan))\n",
    "    snow_volumes.append(entry.get('snow', {}).get('3h', np.nan))\n",
    "\n",
    "# Create DataFrame\n",
    "df = pd.DataFrame({\n",
    "    'time': times,\n",
    "    'temperature': temperatures,\n",
    "    'humidity': humidities,\n",
    "    'weather_status': weather_statuses,\n",
    "    'wind_speed': wind_speeds,\n",
    "    'rain_volume_3h': rain_volumes,\n",
    "    'snow_volume_3h': snow_volumes\n",
    "})\n",
    "\n",
    "print(df.head())\n",
    "\n",
    "## Este codigo actua como el anterior pero esta vez nos los da como en forma de lista \n"
   ]
  }
 ],
 "metadata": {
  "kernelspec": {
   "display_name": "Python 3",
   "language": "python",
   "name": "python3"
  },
  "language_info": {
   "codemirror_mode": {
    "name": "ipython",
    "version": 3
   },
   "file_extension": ".py",
   "mimetype": "text/x-python",
   "name": "python",
   "nbconvert_exporter": "python",
   "pygments_lexer": "ipython3",
   "version": "3.13.7"
  }
 },
 "nbformat": 4,
 "nbformat_minor": 5
}
